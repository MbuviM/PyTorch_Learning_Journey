{
 "cells": [
  {
   "cell_type": "markdown",
   "metadata": {},
   "source": [
    "# Topic 1: Introduction To Tensors"
   ]
  },
  {
   "cell_type": "code",
   "execution_count": 2,
   "metadata": {},
   "outputs": [
    {
     "data": {
      "text/plain": [
       "'2.0.1+cu117'"
      ]
     },
     "execution_count": 2,
     "metadata": {},
     "output_type": "execute_result"
    }
   ],
   "source": [
    "import torch\n",
    "torch .__version__"
   ]
  },
  {
   "cell_type": "markdown",
   "metadata": {},
   "source": [
    "## Creating a Scalar"
   ]
  },
  {
   "cell_type": "markdown",
   "metadata": {},
   "source": [
    "torch.tensor is the function used in the creation of tensors in PyTorch. You can learn more about it in the documentation https://pytorch.org/docs/stable/tensors.html\n",
    "\n",
    "Vectors and scalars are often denoted by lowercase letters while matrices and tensors are denoted by uppercase letters."
   ]
  },
  {
   "cell_type": "code",
   "execution_count": 3,
   "metadata": {},
   "outputs": [
    {
     "data": {
      "text/plain": [
       "tensor(7)"
      ]
     },
     "execution_count": 3,
     "metadata": {},
     "output_type": "execute_result"
    }
   ],
   "source": [
    "scalar = torch.tensor(7)\n",
    "scalar"
   ]
  },
  {
   "cell_type": "code",
   "execution_count": 4,
   "metadata": {},
   "outputs": [
    {
     "data": {
      "text/plain": [
       "0"
      ]
     },
     "execution_count": 4,
     "metadata": {},
     "output_type": "execute_result"
    }
   ],
   "source": [
    "# Checking the dimension of scalar\n",
    "scalar.ndim"
   ]
  },
  {
   "cell_type": "code",
   "execution_count": 5,
   "metadata": {},
   "outputs": [
    {
     "data": {
      "text/plain": [
       "7"
      ]
     },
     "execution_count": 5,
     "metadata": {},
     "output_type": "execute_result"
    }
   ],
   "source": [
    "# Converting the tensor to a Python integer (Only works with one element)\n",
    "# item is a function or a method\n",
    "scalar.item()"
   ]
  },
  {
   "cell_type": "markdown",
   "metadata": {},
   "source": [
    "## Creating a Vector"
   ]
  },
  {
   "cell_type": "code",
   "execution_count": 6,
   "metadata": {},
   "outputs": [
    {
     "data": {
      "text/plain": [
       "tensor([7, 7])"
      ]
     },
     "execution_count": 6,
     "metadata": {},
     "output_type": "execute_result"
    }
   ],
   "source": [
    "vector = torch.tensor([7, 7])\n",
    "vector"
   ]
  },
  {
   "cell_type": "code",
   "execution_count": 7,
   "metadata": {},
   "outputs": [
    {
     "data": {
      "text/plain": [
       "1"
      ]
     },
     "execution_count": 7,
     "metadata": {},
     "output_type": "execute_result"
    }
   ],
   "source": [
    "# Checking the dimension\n",
    "vector.ndim"
   ]
  },
  {
   "cell_type": "code",
   "execution_count": 8,
   "metadata": {},
   "outputs": [
    {
     "data": {
      "text/plain": [
       "torch.Size([2])"
      ]
     },
     "execution_count": 8,
     "metadata": {},
     "output_type": "execute_result"
    }
   ],
   "source": [
    "# Checking the shape of the vector\n",
    "# shape shows the number of elements in a tensor\n",
    "vector.shape"
   ]
  },
  {
   "cell_type": "markdown",
   "metadata": {},
   "source": [
    "## Creating a Matrix"
   ]
  },
  {
   "cell_type": "code",
   "execution_count": 9,
   "metadata": {},
   "outputs": [
    {
     "data": {
      "text/plain": [
       "tensor([[ 7,  8],\n",
       "        [ 9, 10]])"
      ]
     },
     "execution_count": 9,
     "metadata": {},
     "output_type": "execute_result"
    }
   ],
   "source": [
    "MATRIX = torch.tensor([[7, 8], [9, 10]])\n",
    "MATRIX"
   ]
  },
  {
   "cell_type": "code",
   "execution_count": 10,
   "metadata": {},
   "outputs": [
    {
     "data": {
      "text/plain": [
       "2"
      ]
     },
     "execution_count": 10,
     "metadata": {},
     "output_type": "execute_result"
    }
   ],
   "source": [
    "MATRIX.ndim"
   ]
  },
  {
   "cell_type": "code",
   "execution_count": 11,
   "metadata": {},
   "outputs": [
    {
     "data": {
      "text/plain": [
       "torch.Size([2, 2])"
      ]
     },
     "execution_count": 11,
     "metadata": {},
     "output_type": "execute_result"
    }
   ],
   "source": [
    "MATRIX.shape"
   ]
  },
  {
   "cell_type": "markdown",
   "metadata": {},
   "source": [
    "## Creating a Tensor"
   ]
  },
  {
   "cell_type": "markdown",
   "metadata": {},
   "source": [
    "A tensor is a n-dimensional array."
   ]
  },
  {
   "cell_type": "code",
   "execution_count": 12,
   "metadata": {},
   "outputs": [
    {
     "data": {
      "text/plain": [
       "tensor([[[1, 2, 3],\n",
       "         [3, 6, 9],\n",
       "         [2, 4, 5]]])"
      ]
     },
     "execution_count": 12,
     "metadata": {},
     "output_type": "execute_result"
    }
   ],
   "source": [
    "TENSOR = torch.tensor([[[1, 2, 3], [3, 6, 9], [2, 4, 5]]])\n",
    "TENSOR"
   ]
  },
  {
   "cell_type": "markdown",
   "metadata": {},
   "source": [
    "The shape means there is one dimensional of three by three elements"
   ]
  },
  {
   "cell_type": "code",
   "execution_count": 13,
   "metadata": {},
   "outputs": [
    {
     "data": {
      "text/plain": [
       "torch.Size([1, 3, 3])"
      ]
     },
     "execution_count": 13,
     "metadata": {},
     "output_type": "execute_result"
    }
   ],
   "source": [
    "TENSOR.shape"
   ]
  },
  {
   "cell_type": "code",
   "execution_count": 14,
   "metadata": {},
   "outputs": [
    {
     "data": {
      "text/plain": [
       "3"
      ]
     },
     "execution_count": 14,
     "metadata": {},
     "output_type": "execute_result"
    }
   ],
   "source": [
    "TENSOR.ndim"
   ]
  },
  {
   "cell_type": "markdown",
   "metadata": {},
   "source": [
    "## Creating Random Tensors"
   ]
  },
  {
   "cell_type": "markdown",
   "metadata": {},
   "source": [
    "torch.rand() is used to create random tensors. You can specify the size as a parameter. Size is written as a tuple because it symbolizes the rows and columns (rows, columns).\n",
    "\n",
    "torch.ones() and torch.zeros() are methods used to fill tensors with zeros and ones. This is good for masking.\n",
    "\n",
    "Masking is when a tensor's values are replaced with zeros to notify the model not to learn them. "
   ]
  },
  {
   "cell_type": "code",
   "execution_count": 15,
   "metadata": {},
   "outputs": [
    {
     "data": {
      "text/plain": [
       "tensor([[0.5044, 0.8057, 0.9673, 0.1332],\n",
       "        [0.8191, 0.3806, 0.9817, 0.8691],\n",
       "        [0.1380, 0.1628, 0.3777, 0.4565]])"
      ]
     },
     "execution_count": 15,
     "metadata": {},
     "output_type": "execute_result"
    }
   ],
   "source": [
    "RANDOM = torch.rand(size=(3, 4))\n",
    "RANDOM"
   ]
  },
  {
   "cell_type": "code",
   "execution_count": 19,
   "metadata": {},
   "outputs": [
    {
     "data": {
      "text/plain": [
       "tensor([[[2.6796e-02, 6.1009e-01, 7.6544e-03,  ..., 4.1531e-01,\n",
       "          7.6767e-01, 4.8885e-01],\n",
       "         [7.4805e-01, 4.1287e-01, 9.8839e-01,  ..., 6.0375e-01,\n",
       "          3.9755e-01, 6.4545e-02],\n",
       "         [2.6468e-01, 2.0426e-01, 3.5580e-01,  ..., 2.9325e-01,\n",
       "          4.1832e-01, 2.3925e-01],\n",
       "         ...,\n",
       "         [1.0844e-01, 1.5335e-01, 7.9927e-01,  ..., 1.2639e-01,\n",
       "          1.8240e-01, 2.2481e-01],\n",
       "         [2.9480e-01, 1.3731e-01, 7.3585e-01,  ..., 2.3564e-01,\n",
       "          4.7504e-01, 7.7331e-01],\n",
       "         [7.6894e-01, 4.2582e-01, 7.0976e-02,  ..., 8.2059e-01,\n",
       "          3.3315e-01, 1.0736e-01]],\n",
       "\n",
       "        [[7.1840e-01, 5.6666e-01, 4.1429e-01,  ..., 4.3696e-01,\n",
       "          2.3610e-01, 2.9723e-01],\n",
       "         [9.8230e-01, 3.2228e-01, 2.7119e-01,  ..., 1.0231e-01,\n",
       "          5.5619e-01, 6.8053e-01],\n",
       "         [2.0600e-01, 9.9451e-01, 8.0454e-01,  ..., 5.2865e-01,\n",
       "          9.9120e-02, 7.0473e-01],\n",
       "         ...,\n",
       "         [9.0952e-01, 9.7725e-01, 4.1225e-01,  ..., 5.9238e-01,\n",
       "          1.1426e-01, 2.1684e-01],\n",
       "         [5.6666e-02, 9.5095e-01, 1.7215e-01,  ..., 2.3023e-01,\n",
       "          6.5529e-01, 4.9708e-01],\n",
       "         [9.8365e-01, 1.7605e-01, 5.9827e-01,  ..., 1.7496e-01,\n",
       "          4.0982e-01, 5.4798e-01]],\n",
       "\n",
       "        [[3.9666e-01, 4.7809e-01, 8.7940e-01,  ..., 2.4254e-01,\n",
       "          4.1268e-01, 6.1304e-01],\n",
       "         [8.7048e-01, 4.4952e-01, 8.9733e-01,  ..., 3.5166e-01,\n",
       "          7.4760e-01, 4.2455e-01],\n",
       "         [5.0580e-01, 6.5645e-01, 9.6173e-01,  ..., 2.9131e-01,\n",
       "          9.2308e-01, 3.5787e-04],\n",
       "         ...,\n",
       "         [2.1209e-01, 3.9911e-01, 4.7620e-01,  ..., 5.9047e-01,\n",
       "          9.2625e-01, 6.1681e-01],\n",
       "         [5.0424e-01, 5.2057e-01, 9.3439e-02,  ..., 9.7397e-01,\n",
       "          6.1691e-01, 6.2209e-01],\n",
       "         [3.8031e-02, 2.7933e-02, 6.0157e-01,  ..., 8.2536e-01,\n",
       "          7.0051e-01, 3.4806e-01]]])"
      ]
     },
     "execution_count": 19,
     "metadata": {},
     "output_type": "execute_result"
    }
   ],
   "source": [
    "STAND = torch.rand(size=(3, 223, 223))\n",
    "STAND"
   ]
  },
  {
   "cell_type": "code",
   "execution_count": 20,
   "metadata": {},
   "outputs": [
    {
     "data": {
      "text/plain": [
       "(torch.Size([3, 223, 223]), 3)"
      ]
     },
     "execution_count": 20,
     "metadata": {},
     "output_type": "execute_result"
    }
   ],
   "source": [
    "STAND.shape, STAND.ndim"
   ]
  },
  {
   "cell_type": "code",
   "execution_count": 16,
   "metadata": {},
   "outputs": [
    {
     "data": {
      "text/plain": [
       "tensor([[0., 0.],\n",
       "        [0., 0.],\n",
       "        [0., 0.],\n",
       "        [0., 0.]])"
      ]
     },
     "execution_count": 16,
     "metadata": {},
     "output_type": "execute_result"
    }
   ],
   "source": [
    "ZERO = torch.zeros(size=(4, 2))\n",
    "ZERO"
   ]
  },
  {
   "cell_type": "code",
   "execution_count": 18,
   "metadata": {},
   "outputs": [
    {
     "data": {
      "text/plain": [
       "tensor([[1., 1., 1.],\n",
       "        [1., 1., 1.],\n",
       "        [1., 1., 1.],\n",
       "        [1., 1., 1.]])"
      ]
     },
     "execution_count": 18,
     "metadata": {},
     "output_type": "execute_result"
    }
   ],
   "source": [
    "ONES = torch.ones(size=(4, 3))\n",
    "ONES"
   ]
  },
  {
   "cell_type": "code",
   "execution_count": 23,
   "metadata": {},
   "outputs": [
    {
     "data": {
      "text/plain": [
       "tensor([0, 1, 2, 3, 4, 5, 6, 7, 8, 9])"
      ]
     },
     "execution_count": 23,
     "metadata": {},
     "output_type": "execute_result"
    }
   ],
   "source": [
    "# Create a range of values 0 to 10\n",
    "zero_to_ten = torch.arange(start=0, end=10, step=1)\n",
    "zero_to_ten"
   ]
  },
  {
   "cell_type": "code",
   "execution_count": 24,
   "metadata": {},
   "outputs": [
    {
     "data": {
      "text/plain": [
       "tensor([0, 0, 0, 0, 0, 0, 0, 0, 0, 0])"
      ]
     },
     "execution_count": 24,
     "metadata": {},
     "output_type": "execute_result"
    }
   ],
   "source": [
    "# Can also create a tensor of zeros similar to another tensor\n",
    "ten_zeros = torch.zeros_like(input=zero_to_ten) # will have same shape\n",
    "ten_zeros"
   ]
  },
  {
   "cell_type": "code",
   "execution_count": null,
   "metadata": {},
   "outputs": [],
   "source": []
  }
 ],
 "metadata": {
  "kernelspec": {
   "display_name": "Python 3",
   "language": "python",
   "name": "python3"
  },
  "language_info": {
   "codemirror_mode": {
    "name": "ipython",
    "version": 3
   },
   "file_extension": ".py",
   "mimetype": "text/x-python",
   "name": "python",
   "nbconvert_exporter": "python",
   "pygments_lexer": "ipython3",
   "version": "3.11.4"
  },
  "orig_nbformat": 4
 },
 "nbformat": 4,
 "nbformat_minor": 2
}
