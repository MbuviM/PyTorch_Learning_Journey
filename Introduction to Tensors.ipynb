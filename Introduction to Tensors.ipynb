{
 "cells": [
  {
   "cell_type": "markdown",
   "metadata": {},
   "source": [
    "# Topic 1: Introduction To Tensors"
   ]
  },
  {
   "cell_type": "code",
   "execution_count": 1,
   "metadata": {},
   "outputs": [
    {
     "data": {
      "text/plain": [
       "'2.0.1+cu117'"
      ]
     },
     "execution_count": 1,
     "metadata": {},
     "output_type": "execute_result"
    }
   ],
   "source": [
    "import torch\n",
    "torch .__version__"
   ]
  },
  {
   "cell_type": "markdown",
   "metadata": {},
   "source": [
    "## Creating a Scalar"
   ]
  },
  {
   "cell_type": "markdown",
   "metadata": {},
   "source": [
    "torch.tensor is the function used in the creation of tensors in PyTorch. You can learn more about it in the documentation https://pytorch.org/docs/stable/tensors.html\n",
    "\n",
    "Vectors and scalars are often denoted by lowercase letters while matrices and tensors are denoted by uppercase letters."
   ]
  },
  {
   "cell_type": "code",
   "execution_count": 2,
   "metadata": {},
   "outputs": [
    {
     "data": {
      "text/plain": [
       "tensor(7)"
      ]
     },
     "execution_count": 2,
     "metadata": {},
     "output_type": "execute_result"
    }
   ],
   "source": [
    "scalar = torch.tensor(7)\n",
    "scalar"
   ]
  },
  {
   "cell_type": "code",
   "execution_count": 3,
   "metadata": {},
   "outputs": [
    {
     "data": {
      "text/plain": [
       "0"
      ]
     },
     "execution_count": 3,
     "metadata": {},
     "output_type": "execute_result"
    }
   ],
   "source": [
    "# Checking the dimension of scalar\n",
    "scalar.ndim"
   ]
  },
  {
   "cell_type": "code",
   "execution_count": 4,
   "metadata": {},
   "outputs": [
    {
     "data": {
      "text/plain": [
       "7"
      ]
     },
     "execution_count": 4,
     "metadata": {},
     "output_type": "execute_result"
    }
   ],
   "source": [
    "# Converting the tensor to a Python integer (Only works with one element)\n",
    "# item is a function or a method\n",
    "scalar.item()"
   ]
  },
  {
   "cell_type": "markdown",
   "metadata": {},
   "source": [
    "## Creating a Vector"
   ]
  },
  {
   "cell_type": "code",
   "execution_count": 5,
   "metadata": {},
   "outputs": [
    {
     "data": {
      "text/plain": [
       "tensor([7, 7])"
      ]
     },
     "execution_count": 5,
     "metadata": {},
     "output_type": "execute_result"
    }
   ],
   "source": [
    "vector = torch.tensor([7, 7])\n",
    "vector"
   ]
  },
  {
   "cell_type": "code",
   "execution_count": 6,
   "metadata": {},
   "outputs": [
    {
     "data": {
      "text/plain": [
       "1"
      ]
     },
     "execution_count": 6,
     "metadata": {},
     "output_type": "execute_result"
    }
   ],
   "source": [
    "# Checking the dimension\n",
    "vector.ndim"
   ]
  },
  {
   "cell_type": "code",
   "execution_count": 7,
   "metadata": {},
   "outputs": [
    {
     "data": {
      "text/plain": [
       "torch.Size([2])"
      ]
     },
     "execution_count": 7,
     "metadata": {},
     "output_type": "execute_result"
    }
   ],
   "source": [
    "# Checking the shape of the vector\n",
    "# shape shows the number of elements in a tensor\n",
    "vector.shape"
   ]
  },
  {
   "cell_type": "markdown",
   "metadata": {},
   "source": [
    "## Creating a Matrix"
   ]
  },
  {
   "cell_type": "code",
   "execution_count": 8,
   "metadata": {},
   "outputs": [
    {
     "data": {
      "text/plain": [
       "tensor([[ 7,  8],\n",
       "        [ 9, 10]])"
      ]
     },
     "execution_count": 8,
     "metadata": {},
     "output_type": "execute_result"
    }
   ],
   "source": [
    "MATRIX = torch.tensor([[7, 8], [9, 10]])\n",
    "MATRIX"
   ]
  },
  {
   "cell_type": "code",
   "execution_count": 9,
   "metadata": {},
   "outputs": [
    {
     "data": {
      "text/plain": [
       "2"
      ]
     },
     "execution_count": 9,
     "metadata": {},
     "output_type": "execute_result"
    }
   ],
   "source": [
    "MATRIX.ndim"
   ]
  },
  {
   "cell_type": "code",
   "execution_count": 10,
   "metadata": {},
   "outputs": [
    {
     "data": {
      "text/plain": [
       "torch.Size([2, 2])"
      ]
     },
     "execution_count": 10,
     "metadata": {},
     "output_type": "execute_result"
    }
   ],
   "source": [
    "MATRIX.shape"
   ]
  },
  {
   "cell_type": "markdown",
   "metadata": {},
   "source": [
    "## Creating a Tensor"
   ]
  },
  {
   "cell_type": "markdown",
   "metadata": {},
   "source": [
    "A tensor is a n-dimensional array."
   ]
  },
  {
   "cell_type": "code",
   "execution_count": 11,
   "metadata": {},
   "outputs": [
    {
     "data": {
      "text/plain": [
       "tensor([[[1, 2, 3],\n",
       "         [3, 6, 9],\n",
       "         [2, 4, 5]]])"
      ]
     },
     "execution_count": 11,
     "metadata": {},
     "output_type": "execute_result"
    }
   ],
   "source": [
    "TENSOR = torch.tensor([[[1, 2, 3], [3, 6, 9], [2, 4, 5]]])\n",
    "TENSOR"
   ]
  },
  {
   "cell_type": "markdown",
   "metadata": {},
   "source": [
    "The shape means there is one dimensional of three by three elements"
   ]
  },
  {
   "cell_type": "code",
   "execution_count": 12,
   "metadata": {},
   "outputs": [
    {
     "data": {
      "text/plain": [
       "torch.Size([1, 3, 3])"
      ]
     },
     "execution_count": 12,
     "metadata": {},
     "output_type": "execute_result"
    }
   ],
   "source": [
    "TENSOR.shape"
   ]
  },
  {
   "cell_type": "code",
   "execution_count": 13,
   "metadata": {},
   "outputs": [
    {
     "data": {
      "text/plain": [
       "3"
      ]
     },
     "execution_count": 13,
     "metadata": {},
     "output_type": "execute_result"
    }
   ],
   "source": [
    "TENSOR.ndim"
   ]
  },
  {
   "cell_type": "markdown",
   "metadata": {},
   "source": [
    "## Creating Random Tensors"
   ]
  },
  {
   "cell_type": "markdown",
   "metadata": {},
   "source": [
    "torch.rand() is used to create random tensors. You can specify the size as a parameter. Size is written as a tuple because it symbolizes the rows and columns (rows, columns).\n",
    "\n",
    "torch.ones() and torch.zeros() are methods used to fill tensors with zeros and ones. This is good for masking.\n",
    "\n",
    "Masking is when a tensor's values are replaced with zeros to notify the model not to learn them. "
   ]
  },
  {
   "cell_type": "code",
   "execution_count": 14,
   "metadata": {},
   "outputs": [
    {
     "data": {
      "text/plain": [
       "tensor([[0.6497, 0.8580, 0.0766, 0.6172],\n",
       "        [0.7607, 0.9066, 0.5695, 0.9826],\n",
       "        [0.2263, 0.9961, 0.9537, 0.4280]])"
      ]
     },
     "execution_count": 14,
     "metadata": {},
     "output_type": "execute_result"
    }
   ],
   "source": [
    "RANDOM = torch.rand(size=(3, 4))\n",
    "RANDOM"
   ]
  },
  {
   "cell_type": "code",
   "execution_count": 15,
   "metadata": {},
   "outputs": [
    {
     "data": {
      "text/plain": [
       "tensor([[[0.3216, 0.2121, 0.2163,  ..., 0.2237, 0.1782, 0.4507],\n",
       "         [0.1111, 0.2966, 0.1969,  ..., 0.8426, 0.9250, 0.3212],\n",
       "         [0.3136, 0.2387, 0.0877,  ..., 0.6949, 0.9687, 0.1513],\n",
       "         ...,\n",
       "         [0.0798, 0.3703, 0.8754,  ..., 0.2705, 0.8092, 0.4108],\n",
       "         [0.7301, 0.4897, 0.0030,  ..., 0.0612, 0.7000, 0.9767],\n",
       "         [0.7657, 0.7396, 0.3934,  ..., 0.5955, 0.8367, 0.9716]],\n",
       "\n",
       "        [[0.2654, 0.4546, 0.0310,  ..., 0.2153, 0.3266, 0.7308],\n",
       "         [0.0017, 0.0134, 0.1484,  ..., 0.4998, 0.6531, 0.7750],\n",
       "         [0.2480, 0.4790, 0.6489,  ..., 0.9042, 0.1309, 0.5194],\n",
       "         ...,\n",
       "         [0.1423, 0.8163, 0.8785,  ..., 0.0219, 0.9874, 0.3474],\n",
       "         [0.4640, 0.5815, 0.3411,  ..., 0.4136, 0.3277, 0.0790],\n",
       "         [0.6543, 0.4354, 0.3533,  ..., 0.7060, 0.9629, 0.7214]],\n",
       "\n",
       "        [[0.5881, 0.8875, 0.7077,  ..., 0.8113, 0.7504, 0.3704],\n",
       "         [0.8278, 0.4946, 0.0532,  ..., 0.3186, 0.6642, 0.2147],\n",
       "         [0.6133, 0.7113, 0.3527,  ..., 0.8832, 0.2831, 0.7209],\n",
       "         ...,\n",
       "         [0.5708, 0.1665, 0.9553,  ..., 0.3353, 0.6142, 0.2947],\n",
       "         [0.6364, 0.5359, 0.8644,  ..., 0.2232, 0.7104, 0.0277],\n",
       "         [0.5894, 0.5931, 0.6753,  ..., 0.1713, 0.6036, 0.2104]]])"
      ]
     },
     "execution_count": 15,
     "metadata": {},
     "output_type": "execute_result"
    }
   ],
   "source": [
    "STAND = torch.rand(size=(3, 223, 223))\n",
    "STAND"
   ]
  },
  {
   "cell_type": "code",
   "execution_count": 16,
   "metadata": {},
   "outputs": [
    {
     "data": {
      "text/plain": [
       "(torch.Size([3, 223, 223]), 3)"
      ]
     },
     "execution_count": 16,
     "metadata": {},
     "output_type": "execute_result"
    }
   ],
   "source": [
    "STAND.shape, STAND.ndim"
   ]
  },
  {
   "cell_type": "code",
   "execution_count": 17,
   "metadata": {},
   "outputs": [
    {
     "data": {
      "text/plain": [
       "tensor([[0., 0.],\n",
       "        [0., 0.],\n",
       "        [0., 0.],\n",
       "        [0., 0.]])"
      ]
     },
     "execution_count": 17,
     "metadata": {},
     "output_type": "execute_result"
    }
   ],
   "source": [
    "ZERO = torch.zeros(size=(4, 2))\n",
    "ZERO"
   ]
  },
  {
   "cell_type": "code",
   "execution_count": 18,
   "metadata": {},
   "outputs": [
    {
     "data": {
      "text/plain": [
       "tensor([[1., 1., 1.],\n",
       "        [1., 1., 1.],\n",
       "        [1., 1., 1.],\n",
       "        [1., 1., 1.]])"
      ]
     },
     "execution_count": 18,
     "metadata": {},
     "output_type": "execute_result"
    }
   ],
   "source": [
    "ONES = torch.ones(size=(4, 3))\n",
    "ONES"
   ]
  },
  {
   "cell_type": "code",
   "execution_count": 19,
   "metadata": {},
   "outputs": [
    {
     "data": {
      "text/plain": [
       "tensor([0, 1, 2, 3, 4, 5, 6, 7, 8, 9])"
      ]
     },
     "execution_count": 19,
     "metadata": {},
     "output_type": "execute_result"
    }
   ],
   "source": [
    "# Create a range of values 0 to 10\n",
    "zero_to_ten = torch.arange(start=0, end=10, step=1)\n",
    "zero_to_ten"
   ]
  },
  {
   "cell_type": "code",
   "execution_count": 20,
   "metadata": {},
   "outputs": [
    {
     "data": {
      "text/plain": [
       "tensor([0, 0, 0, 0, 0, 0, 0, 0, 0, 0])"
      ]
     },
     "execution_count": 20,
     "metadata": {},
     "output_type": "execute_result"
    }
   ],
   "source": [
    "# Can also create a tensor of zeros similar to another tensor\n",
    "ten_zeros = torch.zeros_like(input=zero_to_ten) # will have same shape\n",
    "ten_zeros"
   ]
  },
  {
   "cell_type": "code",
   "execution_count": 21,
   "metadata": {},
   "outputs": [
    {
     "data": {
      "text/plain": [
       "tensor([1, 1, 1, 1, 1, 1, 1, 1, 1, 1])"
      ]
     },
     "execution_count": 21,
     "metadata": {},
     "output_type": "execute_result"
    }
   ],
   "source": [
    "# Can also create a tensor of zeros similar to another tensor\n",
    "ten_zeros = torch.ones_like(input=zero_to_ten) # will have same shape\n",
    "ten_zeros"
   ]
  },
  {
   "cell_type": "code",
   "execution_count": 23,
   "metadata": {},
   "outputs": [
    {
     "data": {
      "text/plain": [
       "torch.float32"
      ]
     },
     "execution_count": 23,
     "metadata": {},
     "output_type": "execute_result"
    }
   ],
   "source": [
    "x = torch.empty(2,2,2,3)\n",
    "x.dtype"
   ]
  },
  {
   "cell_type": "markdown",
   "metadata": {},
   "source": [
    "# Topic 2: Basic Operations on Tensors\n",
    "\n",
    "* Operations on tensors are all element-wise"
   ]
  },
  {
   "cell_type": "code",
   "execution_count": 32,
   "metadata": {},
   "outputs": [
    {
     "data": {
      "text/plain": [
       "tensor([[[0.8009, 1.1946, 0.7258],\n",
       "         [1.1301, 1.2208, 1.3622]],\n",
       "\n",
       "        [[1.2694, 0.3696, 1.7246],\n",
       "         [1.0462, 1.8052, 1.4508]]])"
      ]
     },
     "execution_count": 32,
     "metadata": {},
     "output_type": "execute_result"
    }
   ],
   "source": [
    "# Addition\n",
    "Ten = torch.rand(2,2,3, dtype=torch.float32)\n",
    "Sor = torch.rand(2,2,3, dtype=torch.float32)\n",
    "Tensor = torch.add(ten,sor)\n",
    "Tensor"
   ]
  },
  {
   "cell_type": "code",
   "execution_count": 48,
   "metadata": {},
   "outputs": [
    {
     "data": {
      "text/plain": [
       "tensor([[[0.6786, 0.1423, 0.6290],\n",
       "         [0.4964, 0.7624, 0.0119],\n",
       "         [0.1521, 0.1442, 0.5613]],\n",
       "\n",
       "        [[0.2348, 0.2067, 0.2392],\n",
       "         [0.0689, 0.2006, 0.1829],\n",
       "         [0.0074, 0.2074, 0.3263]],\n",
       "\n",
       "        [[0.3542, 0.0159, 0.4318],\n",
       "         [0.1463, 0.0704, 0.1685],\n",
       "         [0.2402, 0.0083, 0.4392]]])"
      ]
     },
     "execution_count": 48,
     "metadata": {},
     "output_type": "execute_result"
    }
   ],
   "source": [
    "# Mutiplication\n",
    "Mel = torch.rand(3,3,3, dtype=torch.float32)\n",
    "Mwe = torch.rand(3,3,3, dtype=torch.float32)\n",
    "Mult = torch.mul(Mel,Mwe)\n",
    "Mult"
   ]
  },
  {
   "cell_type": "markdown",
   "metadata": {},
   "source": [
    "## Matrix Multiplication\n",
    "*torch.matmul()* function is used to perform matrix multiplication. \n",
    "\n",
    "Rules to remember:\n",
    "1. *The resulting matrix takes the shape of the outer dimensions.*\n",
    "2. *The column of the first matrix should be equal to the row of the second matrix and vice versa.*"
   ]
  },
  {
   "cell_type": "code",
   "execution_count": 50,
   "metadata": {},
   "outputs": [
    {
     "data": {
      "text/plain": [
       "tensor([[1.3205, 1.8921, 1.7919, 1.8462, 1.0696, 1.2850],\n",
       "        [1.2865, 1.5576, 1.7718, 1.6191, 0.9376, 0.9178],\n",
       "        [1.4454, 1.9737, 1.9005, 2.1615, 1.1239, 1.2105],\n",
       "        [0.4989, 0.7466, 0.8298, 0.7934, 0.4306, 0.4667]])"
      ]
     },
     "execution_count": 50,
     "metadata": {},
     "output_type": "execute_result"
    }
   ],
   "source": [
    "# Matrix Multiplication\n",
    "Mat = torch.rand(4,5)\n",
    "Mul = torch.rand(5,6)\n",
    "Result = torch.matmul(Mat, Mul)\n",
    "Result"
   ]
  },
  {
   "cell_type": "markdown",
   "metadata": {},
   "source": [
    "Difference between matrix multiplication and element-wise multiplication is in the addition.\n",
    "\n",
    "Element-wise multiplication\t  [1 * 1, 2 * 2, 3 * 3] = [1, 4, 9]\t      tensor * tensor\n",
    "\n",
    "Matrix multiplication\t      [1 * 1 + 2 * 2 + 3 * 3] = [14]\t       tensor.matmul(tensor)"
   ]
  },
  {
   "cell_type": "markdown",
   "metadata": {},
   "source": [
    "# Common Errors Performed in Deep Learning\n",
    "\n",
    "* These are some of the most common errors performed during matrix multiplication that is a common operation in deep learning."
   ]
  },
  {
   "cell_type": "markdown",
   "metadata": {},
   "source": [
    "## 1. Shape Mismatches"
   ]
  },
  {
   "cell_type": "code",
   "execution_count": 53,
   "metadata": {},
   "outputs": [
    {
     "ename": "RuntimeError",
     "evalue": "mat1 and mat2 shapes cannot be multiplied (2x3 and 2x3)",
     "output_type": "error",
     "traceback": [
      "\u001b[1;31m---------------------------------------------------------------------------\u001b[0m",
      "\u001b[1;31mRuntimeError\u001b[0m                              Traceback (most recent call last)",
      "Cell \u001b[1;32mIn[53], line 3\u001b[0m\n\u001b[0;32m      1\u001b[0m TensorA \u001b[39m=\u001b[39m torch\u001b[39m.\u001b[39mrand(\u001b[39m2\u001b[39m,\u001b[39m3\u001b[39m)\n\u001b[0;32m      2\u001b[0m TensorB \u001b[39m=\u001b[39m torch\u001b[39m.\u001b[39mrand(\u001b[39m2\u001b[39m,\u001b[39m3\u001b[39m)\n\u001b[1;32m----> 3\u001b[0m Result \u001b[39m=\u001b[39m torch\u001b[39m.\u001b[39;49mmatmul(TensorA, TensorB)\n\u001b[0;32m      4\u001b[0m Result\n",
      "\u001b[1;31mRuntimeError\u001b[0m: mat1 and mat2 shapes cannot be multiplied (2x3 and 2x3)"
     ]
    }
   ],
   "source": [
    "TensorA = torch.rand(2,3)\n",
    "TensorB = torch.rand(2,3)\n",
    "Result = torch.matmul(TensorA, TensorB)\n",
    "Result"
   ]
  },
  {
   "cell_type": "markdown",
   "metadata": {},
   "source": [
    "For this error to be solved, transpose should be performed. Transpose is when the dimension of a matrix is switched. In this case, **TensorB** should have a shape of (3,2). \n",
    "\n",
    "There are two methods in which transpose can be performed in Pytorch:\n",
    "\n",
    "*i)Using **torch.transpose(input,dim0,dim1)** where input is the desiired tensor to be transposed while dim0 and dim1 are the needed dimensions to be swapped.*\n",
    "\n",
    "*ii)Using tensor.T where **tensor** is the desired tensor to be transposed.*"
   ]
  },
  {
   "cell_type": "code",
   "execution_count": 56,
   "metadata": {},
   "outputs": [
    {
     "name": "stdout",
     "output_type": "stream",
     "text": [
      "TensorA:  tensor([[0.1727, 0.3120, 0.4230],\n",
      "        [0.8137, 0.6415, 0.4276]])\n",
      "Shape of TensorA:  torch.Size([2, 3])\n",
      "TensorB:  tensor([[0.5013, 0.4516, 0.8435],\n",
      "        [0.7912, 0.3250, 0.4745]])\n",
      "Shape of TensorB:  torch.Size([2, 3])\n"
     ]
    }
   ],
   "source": [
    "# Print TensorA and TensorB\n",
    "print('TensorA: ', TensorA)\n",
    "print('Shape of TensorA: ', TensorA.shape)\n",
    "print('TensorB: ', TensorB)\n",
    "print('Shape of TensorB: ', TensorB.shape)"
   ]
  },
  {
   "cell_type": "markdown",
   "metadata": {},
   "source": [
    "Using the rules on matrix multiplication given above, the shape of the tensors are mismatched hence transpose needs to be performed."
   ]
  },
  {
   "cell_type": "code",
   "execution_count": 66,
   "metadata": {},
   "outputs": [
    {
     "name": "stdout",
     "output_type": "stream",
     "text": [
      "Transposed TensorB:  tensor([[0.5013, 0.7912],\n",
      "        [0.4516, 0.3250],\n",
      "        [0.8435, 0.4745]])\n",
      "Shape of transposed TensorB:  torch.Size([3, 2])\n"
     ]
    }
   ],
   "source": [
    "# Performing Transpose on TensorB using method i\n",
    "New_TensorB = torch.transpose(TensorB, 0, 1)\n",
    "print('Transposed TensorB: ',New_TensorB)\n",
    "print('Shape of transposed TensorB: ',New_TensorB.shape)"
   ]
  },
  {
   "cell_type": "code",
   "execution_count": 67,
   "metadata": {},
   "outputs": [
    {
     "name": "stdout",
     "output_type": "stream",
     "text": [
      "Transposed TensorB:  tensor([[0.5013, 0.7912],\n",
      "        [0.4516, 0.3250],\n",
      "        [0.8435, 0.4745]])\n",
      "Shape of transposed TensorB:  torch.Size([3, 2])\n"
     ]
    }
   ],
   "source": [
    "# Performing Transpose on TensorB using method ii\n",
    "New_TensorB = TensorB.T\n",
    "print('Transposed TensorB: ',New_TensorB)\n",
    "print('Shape of transposed TensorB: ',New_TensorB.shape)"
   ]
  },
  {
   "cell_type": "code",
   "execution_count": 70,
   "metadata": {},
   "outputs": [
    {
     "name": "stdout",
     "output_type": "stream",
     "text": [
      "Shape of TensorA:  torch.Size([2, 3])\n",
      "Shape of New_TensorB:  torch.Size([3, 2])\n",
      "TensorAB:  tensor([[0.5843, 0.4387],\n",
      "        [1.0582, 1.0551]])\n",
      "Shape of TensorAB:  torch.Size([2, 2])\n"
     ]
    }
   ],
   "source": [
    "# Performing Matrix Multiplication on the tensors\n",
    "print('Shape of TensorA: ', TensorA.shape)\n",
    "print('Shape of New_TensorB: ', New_TensorB.shape)\n",
    "TensorAB = torch.matmul(TensorA, New_TensorB)\n",
    "print('TensorAB: ', TensorAB)\n",
    "print('Shape of TensorAB: ', TensorAB.shape)"
   ]
  },
  {
   "cell_type": "code",
   "execution_count": null,
   "metadata": {},
   "outputs": [],
   "source": []
  }
 ],
 "metadata": {
  "kernelspec": {
   "display_name": "Python 3",
   "language": "python",
   "name": "python3"
  },
  "language_info": {
   "codemirror_mode": {
    "name": "ipython",
    "version": 3
   },
   "file_extension": ".py",
   "mimetype": "text/x-python",
   "name": "python",
   "nbconvert_exporter": "python",
   "pygments_lexer": "ipython3",
   "version": "3.11.4"
  },
  "orig_nbformat": 4
 },
 "nbformat": 4,
 "nbformat_minor": 2
}
